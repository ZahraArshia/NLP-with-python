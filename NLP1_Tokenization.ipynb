{
  "nbformat": 4,
  "nbformat_minor": 0,
  "metadata": {
    "colab": {
      "name": "NLP1-Tokenization.ipynb",
      "provenance": [],
      "authorship_tag": "ABX9TyOTzP8cOJithMHIjG+pjQ1p",
      "include_colab_link": true
    },
    "kernelspec": {
      "name": "python3",
      "display_name": "Python 3"
    },
    "language_info": {
      "name": "python"
    },
    "accelerator": "TPU"
  },
  "cells": [
    {
      "cell_type": "markdown",
      "metadata": {
        "id": "view-in-github",
        "colab_type": "text"
      },
      "source": [
        "<a href=\"https://colab.research.google.com/github/ZahraArshia/NLP-with-python/blob/main/NLP1_Tokenization.ipynb\" target=\"_parent\"><img src=\"https://colab.research.google.com/assets/colab-badge.svg\" alt=\"Open In Colab\"/></a>"
      ]
    },
    {
      "cell_type": "markdown",
      "source": [
        "word Tokenazation with NLTK"
      ],
      "metadata": {
        "id": "OWqXznVsu4x3"
      }
    },
    {
      "cell_type": "code",
      "source": [
        "import nltk\n",
        "nltk.download('punkt')"
      ],
      "metadata": {
        "colab": {
          "base_uri": "https://localhost:8080/"
        },
        "id": "8nYBI-62vjXr",
        "outputId": "c3e55623-a350-4dc4-b167-6c1212ae0e9a"
      },
      "execution_count": 6,
      "outputs": [
        {
          "output_type": "stream",
          "name": "stdout",
          "text": [
            "[nltk_data] Downloading package punkt to /root/nltk_data...\n",
            "[nltk_data]   Unzipping tokenizers/punkt.zip.\n"
          ]
        },
        {
          "output_type": "execute_result",
          "data": {
            "text/plain": [
              "True"
            ]
          },
          "metadata": {},
          "execution_count": 6
        }
      ]
    },
    {
      "cell_type": "code",
      "source": [
        "from nltk.tokenize import word_tokenize"
      ],
      "metadata": {
        "id": "T2DgLS9bu8zL"
      },
      "execution_count": 7,
      "outputs": []
    },
    {
      "cell_type": "code",
      "execution_count": 8,
      "metadata": {
        "id": "4Zb7CyoDuwsn"
      },
      "outputs": [],
      "source": [
        "text = \"Perl – The only language that looks the same before and after RSA encryption.\""
      ]
    },
    {
      "cell_type": "code",
      "source": [
        "word_tokenize(text)"
      ],
      "metadata": {
        "id": "vqQv8PQBvcLp"
      },
      "execution_count": null,
      "outputs": []
    },
    {
      "cell_type": "markdown",
      "source": [
        "word Tokenazation with Gensim"
      ],
      "metadata": {
        "id": "ZP2QkIK4vwsU"
      }
    },
    {
      "cell_type": "code",
      "source": [
        "from gensim.utils import tokenize\n",
        "list(tokenize(text))"
      ],
      "metadata": {
        "id": "Z5BL6fGFv2LS"
      },
      "execution_count": null,
      "outputs": []
    },
    {
      "cell_type": "markdown",
      "source": [
        "word Tokenization with Hazm"
      ],
      "metadata": {
        "id": "J6pDG3V0wHMK"
      }
    },
    {
      "cell_type": "code",
      "source": [
        "! pip install hazm"
      ],
      "metadata": {
        "id": "vC1x5o5LwVX_"
      },
      "execution_count": null,
      "outputs": []
    },
    {
      "cell_type": "code",
      "source": [
        "from __future__ import unicode_literals\n",
        "from hazm import *"
      ],
      "metadata": {
        "id": "ns03pvoJwO6e"
      },
      "execution_count": 16,
      "outputs": []
    },
    {
      "cell_type": "code",
      "source": [
        "word_tokenize(text)"
      ],
      "metadata": {
        "id": "5dJE-6stw8N_"
      },
      "execution_count": null,
      "outputs": []
    },
    {
      "cell_type": "code",
      "source": [
        "persian = \"ما هم برای وصل کردن آمدیم! ولی برای پردازش، جدا بهتر نیست؟\""
      ],
      "metadata": {
        "id": "W5rLPxJnwpVS"
      },
      "execution_count": 18,
      "outputs": []
    },
    {
      "cell_type": "code",
      "source": [
        "word_tokenize(persian)"
      ],
      "metadata": {
        "id": "C_Zd3qcuwjsm"
      },
      "execution_count": null,
      "outputs": []
    }
  ]
}